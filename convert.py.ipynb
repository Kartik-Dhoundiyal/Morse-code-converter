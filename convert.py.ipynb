{
 "cells": [
  {
   "cell_type": "code",
   "execution_count": 1,
   "id": "2c6ae5d4",
   "metadata": {},
   "outputs": [],
   "source": [
    "morse_code_dict = {\n",
    "    'A': '.-', 'B': '-...', 'C': '-.-.', 'D': '-..', 'E': '.', 'F': '..-.', 'G': '--.', 'H': '....', 'I': '..', 'J': '.---',\n",
    "    'K': '-.-', 'L': '.-..', 'M': '--', 'N': '-.', 'O': '---', 'P': '.--.', 'Q': '--.-', 'R': '.-.', 'S': '...', 'T': '-',\n",
    "    'U': '..-', 'V': '...-', 'W': '.--', 'X': '-..-', 'Y': '-.--', 'Z': '--..',\n",
    "    '0': '-----', '1': '.----', '2': '..---', '3': '...--', '4': '....-', '5': '.....', '6': '-....', '7': '--...',\n",
    "    '8': '---..', '9': '----.',\n",
    "    '.': '.-.-.-', ',': '--..--', '?': '..--..', \"'\": '.----.', '!': '-.-.--', '/': '-..-.', '(': '-.--.', ')': '-.--.-',\n",
    "    '&': '.-...', ':': '---...', ';': '-.-.-.', '=': '-...-', '+': '.-.-.', '-': '-....-', '_': '..--.-', '\"': '.-..-.',\n",
    "    '$': '...-..-', '@': '.--.-.', ' ': '/'\n",
    "}"
   ]
  },
  {
   "cell_type": "code",
   "execution_count": 2,
   "id": "606b9a67",
   "metadata": {},
   "outputs": [],
   "source": [
    "def convert_to_morse_code(text):\n",
    "    morse_code = ''\n",
    "    for char in text:\n",
    "        char = char.upper()\n",
    "        if char in morse_code_dict:\n",
    "            morse_code += morse_code_dict[char] + ' '\n",
    "    return morse_code"
   ]
  },
  {
   "cell_type": "code",
   "execution_count": 4,
   "id": "205df8b8",
   "metadata": {},
   "outputs": [],
   "source": [
    "def convert():\n",
    "    user_input = input(\"Enter a string : \")\n",
    "    morse_code = convert_to_morse_code(user_input)\n",
    "    print(\"Morse Code: \", morse_code)\n"
   ]
  },
  {
   "cell_type": "code",
   "execution_count": 6,
   "id": "c9a34a8e",
   "metadata": {},
   "outputs": [
    {
     "name": "stdout",
     "output_type": "stream",
     "text": [
      "Enter a string : df\n",
      "Morse Code:  -.. ..-. \n"
     ]
    }
   ],
   "source": [
    "if __name__ == \"__main__\":\n",
    "    convert()"
   ]
  },
  {
   "cell_type": "code",
   "execution_count": 7,
   "id": "2d64c2d5",
   "metadata": {},
   "outputs": [
    {
     "name": "stdout",
     "output_type": "stream",
     "text": [
      "Author identity unknown\n",
      "\n",
      "*** Please tell me who you are.\n",
      "\n",
      "Run\n",
      "\n",
      "  git config --global user.email \"you@example.com\"\n",
      "  git config --global user.name \"Your Name\"\n",
      "\n",
      "to set your account's default identity.\n",
      "Omit --global to set the identity only in this repository.\n",
      "\n",
      "fatal: unable to auto-detect email address (got 'trigoros@ubuntu.(none)')\n",
      "Everything up-to-date\n"
     ]
    }
   ],
   "source": [
    "! git add *\n",
    "! git commit -m \"final\"\n",
    "!git push"
   ]
  },
  {
   "cell_type": "code",
   "execution_count": null,
   "id": "67dbf25a",
   "metadata": {},
   "outputs": [],
   "source": []
  }
 ],
 "metadata": {
  "kernelspec": {
   "display_name": "Python 3 (ipykernel)",
   "language": "python",
   "name": "python3"
  },
  "language_info": {
   "codemirror_mode": {
    "name": "ipython",
    "version": 3
   },
   "file_extension": ".py",
   "mimetype": "text/x-python",
   "name": "python",
   "nbconvert_exporter": "python",
   "pygments_lexer": "ipython3",
   "version": "3.10.6"
  }
 },
 "nbformat": 4,
 "nbformat_minor": 5
}
